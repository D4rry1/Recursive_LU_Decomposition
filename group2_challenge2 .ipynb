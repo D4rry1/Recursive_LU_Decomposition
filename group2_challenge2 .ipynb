{
  "metadata": {
    "kernelspec": {
      "name": "python",
      "display_name": "Python (Pyodide)",
      "language": "python"
    },
    "language_info": {
      "codemirror_mode": {
        "name": "python",
        "version": 3
      },
      "file_extension": ".py",
      "mimetype": "text/x-python",
      "name": "python",
      "nbconvert_exporter": "python",
      "pygments_lexer": "ipython3",
      "version": "3.8"
    }
  },
  "nbformat_minor": 4,
  "nbformat": 4,
  "cells": [
    {
      "cell_type": "markdown",
      "source": "### Group 2 Members\n\n110511091 蔡炅宸, 109652061 鄭傳宇, 710872 溫環華\n",
      "metadata": {}
    },
    {
      "cell_type": "markdown",
      "source": "# Recursive LU Decomposition and Its Generalizations\n\nIn this challenge, we want to delve into the intricacies of the **LU decomposition**, particularly its\nrecursive implementation, and explore a multilevel generalization of this approach in Julia.",
      "metadata": {}
    },
    {
      "cell_type": "markdown",
      "source": "### Matrix Generation\n\nWe want to generate random matrices with dimensions _n×m_. Populate these matrices meticulously with entries derived from a standard Gaussian distribution. This foundational step establishes a controlled and randomized basis for subsequent analyses, ensuring that the data under investigation is representative of a broad spectrum of possibilities. By employing matrices initialized with values from a standard Gaussian distribution, statistical robustness and diversity are introduced into the dataset, forming a solid foundation for the ensuing research and analysis processes.",
      "metadata": {}
    },
    {
      "cell_type": "code",
      "source": "using Random\n\nfunction generate_matrix(n, m)\n    return randn(n, m)\nend",
      "metadata": {},
      "execution_count": null,
      "outputs": [
        {
          "ename": "<class 'SyntaxError'>",
          "evalue": "invalid syntax (<ipython-input-1-fa563e2d0c8a>, line 1)",
          "traceback": [
            "\u001b[0;36m  Cell \u001b[0;32mIn[1], line 1\u001b[0;36m\u001b[0m\n\u001b[0;31m    using Random\u001b[0m\n\u001b[0m          ^\u001b[0m\n\u001b[0;31mSyntaxError\u001b[0m\u001b[0;31m:\u001b[0m invalid syntax\n"
          ],
          "output_type": "error"
        }
      ]
    },
    {
      "cell_type": "markdown",
      "source": "### LU Decomposition Methods\n\nLU decomposition, also known as LU factorization, is a method used in linear algebra to factorize a matrix into the product of a lower triangular matrix **(L)** and an upper triangular matrix **(U)**. This decomposition simplifies solving systems of linear equations and performing matrix operations. The following are the methods of LU decomposition we used in Julia:\n",
      "metadata": {}
    },
    {
      "cell_type": "markdown",
      "source": "##### 1. Standard LU Decomposition\nThe classic method involving the Gaussian elimination approach. It is based on a theorem in linear algebra, which states:\n_Any nonsingular, square matrix, **A**, can be written as the product of two triangular matrices, **L** and **U**, of the same order such that matrix **L** is a lower-triangular matrix (all elements above the main diagonal are 0) and **U** is an upper-triangular matrix (all elements below the main diagonal are 0)._\n\n![image.png](attachment:1318d6fa-578d-4595-9ace-840bf72c331b.png)\n\nThe goal of LU decomposition would be to find the values for each of the non-zero elements in **L** and **U**. We used the following code to generate the standard LU Decomposition involving the Gaussian elimination approach.",
      "metadata": {},
      "attachments": {
        "1318d6fa-578d-4595-9ace-840bf72c331b.png": {
          "image/png": "[encoded data removed]"
        }
      }
    },
    {
      "cell_type": "code",
      "source": "using LinearAlgebra\n\nfunction standard_lu(A)\n    L, U, p = lu(A)\n    return L, U\nend\n",
      "metadata": {},
      "execution_count": null,
      "outputs": [
        {
          "output_type": "display_data",
          "data": {
            "text/plain": [
              "standard_lu (generic function with 1 method)"
            ]
          },
          "metadata": {}
        }
      ]
    },
    {
      "cell_type": "markdown",
      "source": "##### 2. Recursive LU Decomposition\nA divide-and-conquer strategy that divides the matrix into smaller blocks. It is particularly useful for large matrices. Instead of decomposing the entire matrix at once, recursive LU decomposition divides the matrix into smaller blocks and decomposes them recursively. This approach reduces the memory requirements and allows for parallel processing, making it efficient for large-scale computations. \n",
      "metadata": {}
    },
    {
      "cell_type": "code",
      "source": "function recursive_lu(A)\n    n = size(A, 1)\n    if n == 1\n        return A, I\n    end\n    m = div(n, 2)\n    L1, U1 = lu(A[1:m, 1:m])\n    U2 = L1 \\ A[1:m, m+1:n]\n    L3 = A[m+1:n, 1:m] / U1\n    L4, U4 = lu(A[m+1:n, m+1:n] - L3 * U2)\n    L = [L1 zeros(m, n-m); L3 L4]\n    U = [U1 U2; zeros(n-m, m) U4]\n    return L, U\nend\n",
      "metadata": {},
      "execution_count": 3,
      "outputs": [
        {
          "output_type": "display_data",
          "data": {
            "text/plain": [
              "recursive_lu (generic function with 1 method)"
            ]
          },
          "metadata": {}
        }
      ]
    },
    {
      "cell_type": "markdown",
      "source": "##### 3. Multilevel Decomposition:\nAn extension of the recursive LU decomposition, aiming to decompose the matrix into multiple **L** and **U** components. it is useful when dealing with very large matrices, where traditional LU decomposition techniques might be computationally expensive or memory-intensive. It involves breaking down a problem into a hierarchy or series of levels, typically with the goal of solving each subproblem more efficiently. This concept is most commonly applied in numerical linear algebra and the solving of partial differential equations (PDEs). \n\n",
      "metadata": {}
    },
    {
      "cell_type": "code",
      "source": "function two_level_decomposition(A)\n    n, m = size(A)\n    mid_row, mid_col = div(n, 2), div(m, 2)\n    \n    A11 = A[1:mid_row, 1:mid_col]\n    A12 = A[1:mid_row, mid_col+1:end]\n    A21 = A[mid_row+1:end, 1:mid_col]\n    A22 = A[mid_row+1:end, mid_col+1:end]\n    \n    L1, U1 = lu(A11)\n    L2, U2 = lu(A22)\n    \n    return L1, U1, L2, U2\nend\n",
      "metadata": {},
      "execution_count": 5,
      "outputs": [
        {
          "output_type": "display_data",
          "data": {
            "text/plain": [
              "two_level_decomposition (generic function with 1 method)"
            ]
          },
          "metadata": {}
        }
      ]
    },
    {
      "cell_type": "markdown",
      "source": "### LU Decomposition Implementation\n\nLU decomposition (or factorization) is a method used for solving systems of linear equations. The following are our approach of implementing LU decomposition in Python:\n\nWe can begin by adding a benchmarking tools to show how good the algorithm performs.",
      "metadata": {}
    },
    {
      "cell_type": "code",
      "source": "using Pkg\nPkg.add(\"BenchmarkTools\")\n",
      "metadata": {},
      "execution_count": 13,
      "outputs": [
        {
          "name": "stderr",
          "output_type": "stream",
          "text": "\u001b[32m\u001b[1m   Resolving\u001b[22m\u001b[39m package versions...\n\u001b[32m\u001b[1m  No Changes\u001b[22m\u001b[39m to `C:\\Users\\johns\\.julia\\environments\\v1.9\\Project.toml`\n\n\u001b[32m\u001b[1m  No Changes\u001b[22m\u001b[39m to `C:\\Users\\johns\\.julia\\environments\\v1.9\\Manifest.toml`\n"
        }
      ]
    },
    {
      "cell_type": "markdown",
      "source": "We then generate random n×m matrices filled with values from a standard Gaussian distribution. This step ensures diverse and statistically sound data, essential for reliable analysis.",
      "metadata": {}
    },
    {
      "cell_type": "code",
      "source": "using Random\n\nfunction generate_matrix(n, m)\n    return randn(n, m)\nend\n",
      "metadata": {},
      "execution_count": 2,
      "outputs": [
        {
          "output_type": "display_data",
          "data": {
            "text/plain": [
              "generate_matrix (generic function with 1 method)"
            ]
          },
          "metadata": {}
        }
      ]
    },
    {
      "cell_type": "markdown",
      "source": "We divide matrix into multiple submatrices, performing LU factorization on each submatrix, and then assembling the factorized results of all submatrices into two complete matrices L and U.",
      "metadata": {}
    },
    {
      "cell_type": "code",
      "source": "using LinearAlgebra\n\nfunction four_level_decomposition(A)\n    n, m = size(A)\n    mid_row, mid_col = div(n, 2), div(m, 2)\n    \n    # Split the matrix into 4 submatrices\n    A11 = A[1:mid_row, 1:mid_col]\n    A12 = A[1:mid_row, mid_col+1:end]\n    A21 = A[mid_row+1:end, 1:mid_col]\n    A22 = A[mid_row+1:end, mid_col+1:end]\n    \n    # Perform LU decomposition on each submatrix\n    L11, U11 = lu(A11)\n    L12, U12 = lu(A12)\n    L21, U21 = lu(A21)\n    L22, U22 = lu(A22)\n    \n    # Further decompose the submatrices\n    L11_1, U11_1, L11_2, U11_2 = two_level_decomposition(A11)\n    L12_1, U12_1, L12_2, U12_2 = two_level_decomposition(A12)\n    L21_1, U21_1, L21_2, U21_2 = two_level_decomposition(A21)\n    L22_1, U22_1, L22_2, U22_2 = two_level_decomposition(A22)\n    \n    return (\n        (L11_1, U11_1, L11_2, U11_2),\n        (L12_1, U12_1, L12_2, U12_2),\n        (L21_1, U21_1, L21_2, U21_2),\n        (L22_1, U22_1, L22_2, U22_2)\n    )\nend\n\n# Test the function\nA = randn(4, 4)\ndecomposition_result = four_level_decomposition(A)\n",
      "metadata": {},
      "execution_count": 8,
      "outputs": [
        {
          "output_type": "display_data",
          "data": {
            "text/plain": [
              "(([1.0;;], [-0.8797048035469732;;], [1.0;;], [1.3257019768946212;;]), ([1.0;;], [-0.8161322839352011;;], [1.0;;], [0.3424945898858133;;]), ([1.0;;], [-0.46707381499739803;;], [1.0;;], [0.0004662157480603231;;]), ([1.0;;], [-2.0638196500021646;;], [1.0;;], [-0.3037844641332837;;]))"
            ]
          },
          "metadata": {}
        }
      ]
    },
    {
      "cell_type": "code",
      "source": "using Random\n\n# Function to generate random matrices\nfunction generate_random_matrices(dimensions)\n    matrices = []  # Array to hold the generated matrices\n    for dim in dimensions\n        n, m = dim  # Get the number of rows and columns from the tuple\n        matrix = randn(n, m)  # Generate a random matrix of size n x m\n        push!(matrices, matrix)  # Add the matrix to the list\n    end\n    return matrices\nend\n\n# Define the dimensions of the matrices you want to generate\ndimensions = [(4, 4), (8, 8), (16, 16), (32, 32)]\n\n# Generate the random matrices\nrandom_matrices = generate_random_matrices(dimensions)\n\n# Now random_matrices contains four random matrices of dimensions 4x4, 8x8, 16x16, and 32x32.\n",
      "metadata": {},
      "execution_count": 9,
      "outputs": [
        {
          "output_type": "display_data",
          "data": {
            "text/plain": [
              "4-element Vector{Any}:\n",
              " [1.441592888352837 -1.8105032689962786 -0.3936557774476761 -0.04655606191666132; 0.6141408190644972 -0.03664269295296034 -0.1891077513811622 -0.4891592333812733; 1.7891122426571888 -1.5733071684128068 2.3376405928067907 0.558069084513761; -0.270441362102713 0.00746277362200583 1.670095272463324 1.2625314747619825]\n",
              " [-0.06797831833147554 0.9509546912019098 … 0.612190180491153 0.8155023198500676; 0.394621130989923 0.8963890518687084 … 1.329898478378236 -0.8282768452157464; … ; 2.0172418906778318 -1.1901632824636523 … 0.6419111460952132 -0.9027665951916032; 1.9052901947594207 -2.4480274958049137 … -0.25222709631877543 -0.025346717211512614]\n",
              " [1.0155284175945605 -0.25040222037161575 … 0.36606094484030927 -1.4578168216690073; -1.4028392001664005 -0.598501357455378 … 0.601635483073359 0.5361795190700589; … ; -0.8810994867462402 0.5905855287826487 … -0.3863485783328489 0.6839965561376584; 0.44393121431422733 0.6471194350035866 … 0.30505291659496925 -2.2118264901471885]\n",
              " [-0.04085750020776436 -1.6092046380157923 … -2.3227727427015483 1.7108223470384; -0.28429535507364245 0.44690594935838773 … -0.03119796524664257 -0.6100016781560296; … ; 0.7115222896528138 -0.14510987953883828 … 1.2204531121873587 0.5402656966211501; 1.3503568961157477 -0.5310998607569594 … 0.22808083312275249 0.9059287905143502]"
            ]
          },
          "metadata": {}
        }
      ]
    },
    {
      "cell_type": "markdown",
      "source": "We want to generate the matrix and show how well each method of LU decomposition performs using BenchmarkTools using the following code.",
      "metadata": {}
    },
    {
      "cell_type": "code",
      "source": "using BenchmarkTools\n\nn, m = 100, 100\nA = generate_matrix(n, m)\n\n# Benchmark standard LU decomposition\nbench_standard_lu = @benchmark standard_lu($A)\n\n# Benchmark recursive LU decomposition\nbench_recursive_lu = @benchmark recursive_lu($A)\n\n# Benchmark two level decomposition\nbench_two_level = @benchmark two_level_decomposition($A)\n",
      "metadata": {},
      "execution_count": 4,
      "outputs": [
        {
          "ename": "UndefVarError",
          "evalue": "UndefVarError: `standard_lu` not defined",
          "output_type": "error",
          "traceback": [
            "UndefVarError: `standard_lu` not defined\n",
            "\n",
            "Stacktrace:\n",
            "  [1] var\"##core#299\"(A#298::Matrix{Float64})\n",
            "    @ Main C:\\Users\\johns\\.julia\\packages\\BenchmarkTools\\0owsb\\src\\execution.jl:489\n",
            "  [2] var\"##sample#300\"(::Tuple{Matrix{Float64}}, __params::BenchmarkTools.Parameters)\n",
            "    @ Main C:\\Users\\johns\\.julia\\packages\\BenchmarkTools\\0owsb\\src\\execution.jl:495\n",
            "  [3] _run(b::BenchmarkTools.Benchmark, p::BenchmarkTools.Parameters; verbose::Bool, pad::String, kwargs::Base.Pairs{Symbol, Integer, NTuple{4, Symbol}, NamedTuple{(:samples, :evals, :gctrial, :gcsample), Tuple{Int64, Int64, Bool, Bool}}})\n",
            "    @ BenchmarkTools C:\\Users\\johns\\.julia\\packages\\BenchmarkTools\\0owsb\\src\\execution.jl:99\n",
            "  [4] #invokelatest#2\n",
            "    @ .\\essentials.jl:821 [inlined]\n",
            "  [5] invokelatest\n",
            "    @ .\\essentials.jl:816 [inlined]\n",
            "  [6] #run_result#45\n",
            "    @ C:\\Users\\johns\\.julia\\packages\\BenchmarkTools\\0owsb\\src\\execution.jl:34 [inlined]\n",
            "  [7] run_result\n",
            "    @ C:\\Users\\johns\\.julia\\packages\\BenchmarkTools\\0owsb\\src\\execution.jl:34 [inlined]\n",
            "  [8] run(b::BenchmarkTools.Benchmark, p::BenchmarkTools.Parameters; progressid::Nothing, nleaves::Float64, ndone::Float64, kwargs::Base.Pairs{Symbol, Integer, NTuple{5, Symbol}, NamedTuple{(:verbose, :samples, :evals, :gctrial, :gcsample), Tuple{Bool, Int64, Int64, Bool, Bool}}})\n",
            "    @ BenchmarkTools C:\\Users\\johns\\.julia\\packages\\BenchmarkTools\\0owsb\\src\\execution.jl:117\n",
            "  [9] run (repeats 2 times)\n",
            "    @ C:\\Users\\johns\\.julia\\packages\\BenchmarkTools\\0owsb\\src\\execution.jl:117 [inlined]\n",
            " [10] #warmup#54\n",
            "    @ C:\\Users\\johns\\.julia\\packages\\BenchmarkTools\\0owsb\\src\\execution.jl:169 [inlined]\n",
            " [11] warmup(item::BenchmarkTools.Benchmark)\n",
            "    @ BenchmarkTools C:\\Users\\johns\\.julia\\packages\\BenchmarkTools\\0owsb\\src\\execution.jl:168\n",
            " [12] top-level scope\n",
            "    @ C:\\Users\\johns\\.julia\\packages\\BenchmarkTools\\0owsb\\src\\execution.jl:393"
          ]
        }
      ]
    },
    {
      "cell_type": "markdown",
      "source": "From the implementation of the LU decomposition algorithms, particularly the recursive version as shown above, we now want to show the performance of these algorithms using Julia’s analytical tools. To begin, we want to show how long the algorithm took to solve the matrix and how many bytes it took for each method of LU decomposition. ",
      "metadata": {}
    },
    {
      "cell_type": "code",
      "source": "using Random, LinearAlgebra, BenchmarkTools\n\n# Function Definitions\n\nfunction generate_matrix(n, m)\n    return randn(n, m)\nend\n\nfunction standard_lu(A)\n    L, U, p = lu(A)\n    return L, U\nend\n\nfunction recursive_lu(A)\n    n = size(A, 1)\n    if n == 1\n        return A, I\n    end\n    m = div(n, 2)\n    L1, U1 = lu(A[1:m, 1:m])\n    U2 = L1 \\ A[1:m, m+1:n]\n    L3 = A[m+1:n, 1:m] / U1\n    L4, U4 = lu(A[m+1:n, m+1:n] - L3 * U2)\n    L = [L1 zeros(m, n-m); L3 L4]\n    U = [U1 U2; zeros(n-m, m) U4]\n    return L, U\nend\n\nfunction two_level_decomposition(A)\n    n, m = size(A)\n    mid_row, mid_col = div(n, 2), div(m, 2)\n    \n    A11 = A[1:mid_row, 1:mid_col]\n    A12 = A[1:mid_row, mid_col+1:end]\n    A21 = A[mid_row+1:end, 1:mid_col]\n    A22 = A[mid_row+1:end, mid_col+1:end]\n    \n    L1, U1 = lu(A11)\n    L2, U2 = lu(A22)\n    \n    return L1, U1, L2, U2\nend\n\n# Benchmarking\n\nn, m = 100, 100\nA = generate_matrix(n, m)\n\nbench_standard_lu = @benchmark standard_lu($A)\nbench_recursive_lu = @benchmark recursive_lu($A)\nbench_two_level = @benchmark two_level_decomposition($A)\n\n# Results\nprintln(\"Standard LU:\")\nprintln(bench_standard_lu)\n\nprintln(\"\\nRecursive LU:\")\nprintln(bench_recursive_lu)\n\nprintln(\"\\nTwo Level Decomposition:\")\nprintln(bench_two_level)\nfunction four_level_decomposition(A)\n    # First two-level decomposition\n    L1, U1, L2, U2 = two_level_decomposition(A)\n    \n    # Decompose each block further\n    L1a, U1a, L1b, U1b = two_level_decomposition(L1)\n    L2a, U2a, L2b, U2b = two_level_decomposition(L2)\n    \n    return L1a, U1a, L1b, U1b, L2a, U2a, L2b, U2b\nend\n\n# Benchmarking\n\nbench_four_level = @benchmark four_level_decomposition($A)\n\n# Results\n\nprintln(\"\\nFour Level Decomposition:\")\nprintln(bench_four_level)\n\n",
      "metadata": {},
      "execution_count": 6,
      "outputs": [
        {
          "name": "stdout",
          "output_type": "stream",
          "text": "Standard LU:\n\nTrial(2.381 ms)\n\n\n\nRecursive LU:\n\nTrial(469.400 μs)\n\n\n\nTwo Level Decomposition:\n\nTrial(91.100 μs)\n\n\nFour Level Decomposition:\n\nTrial(136.700 μs)\n"
        }
      ]
    },
    {
      "cell_type": "code",
      "source": "# ... [All previous function definitions and benchmarks]\n\n# Memory Usage Analysis\nprintln(\"Memory Usage Analysis:\")\nprintln(\"\\nStandard LU:\")\nprintln(\"Memory allocated: \", bench_standard_lu.memory, \" bytes\")\n\nprintln(\"\\nRecursive LU:\")\nprintln(\"Memory allocated: \", bench_recursive_lu.memory, \" bytes\")\n\nprintln(\"\\nTwo Level Decomposition:\")\nprintln(\"Memory allocated: \", bench_two_level.memory, \" bytes\")\n\nprintln(\"\\nFour Level Decomposition:\")\nprintln(\"Memory allocated: \", bench_four_level.memory, \" bytes\")\n",
      "metadata": {},
      "execution_count": 7,
      "outputs": [
        {
          "name": "stdout",
          "output_type": "stream",
          "text": "Memory Usage Analysis:\n\n\n\nStandard LU:\n\nMemory allocated: 241936 bytes\n\n\n\nRecursive LU:\n\nMemory allocated: 502480 bytes\n\n\n\nTwo Level Decomposition:\n\nMemory allocated: 201792 bytes\n\n\n\nFour Level Decomposition:\n\nMemory allocated: 306496 bytes\n"
        }
      ]
    },
    {
      "cell_type": "markdown",
      "source": "er\n",
      "metadata": {}
    },
    {
      "cell_type": "markdown",
      "source": "### Performance Assessment\n\nUsing appropriate Julia packages and tools, we manages to to evaluate and compare the performance metrics of the LU decomposition algorithms, including computational time,\nmemory usage, and accuracy. As stated above, each of the methods has unique properties and it's own potential advantages. Based on the result above, using the matrix generated the multilevel decomposition has the best computational time, memory usage specifically the Two Level Decomposition method. This actively demonstrate that since the generated matrix is quite large, breaking down a problem into a hierarchy or series of levels with the goal of solving each subproblem is more efficient. ",
      "metadata": {}
    }
  ]
}